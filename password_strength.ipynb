{
  "nbformat": 4,
  "nbformat_minor": 0,
  "metadata": {
    "colab": {
      "provenance": [],
      "authorship_tag": "ABX9TyN2dc1PYW+FjAJwCZIJXmbc",
      "include_colab_link": true
    },
    "kernelspec": {
      "name": "python3",
      "display_name": "Python 3"
    },
    "language_info": {
      "name": "python"
    }
  },
  "cells": [
    {
      "cell_type": "markdown",
      "metadata": {
        "id": "view-in-github",
        "colab_type": "text"
      },
      "source": [
        "<a href=\"https://colab.research.google.com/github/ijayslay/password-strength-checker/blob/main/password_strength.ipynb\" target=\"_parent\"><img src=\"https://colab.research.google.com/assets/colab-badge.svg\" alt=\"Open In Colab\"/></a>"
      ]
    },
    {
      "cell_type": "code",
      "execution_count": 2,
      "metadata": {
        "colab": {
          "base_uri": "https://localhost:8080/"
        },
        "id": "vAdJvaMbuHkF",
        "outputId": "aae68eb4-c653-4aa1-b776-3d3e9745b04a"
      },
      "outputs": [
        {
          "output_type": "stream",
          "name": "stdout",
          "text": [
            "Enter your password: vasuvaishu@#123\n",
            "Moderate Password ⚠️\n",
            "Suggestions:\n",
            "Password should include at least one uppercase letter.\n",
            "\n"
          ]
        }
      ],
      "source": [
        "import re\n",
        "\n",
        "def check_password_strength(password):\n",
        "    strength = 0\n",
        "    remarks = \"\"\n",
        "\n",
        "    # Check length\n",
        "    if len(password) >= 8:\n",
        "        strength += 1\n",
        "    else:\n",
        "        remarks += \"Password should be at least 8 characters long.\\n\"\n",
        "\n",
        "    # Check uppercase\n",
        "    if re.search(r\"[A-Z]\", password):\n",
        "        strength += 1\n",
        "    else:\n",
        "        remarks += \"Password should include at least one uppercase letter.\\n\"\n",
        "\n",
        "    # Check lowercase\n",
        "    if re.search(r\"[a-z]\", password):\n",
        "        strength += 1\n",
        "    else:\n",
        "        remarks += \"Password should include at least one lowercase letter.\\n\"\n",
        "\n",
        "    # Check digits\n",
        "    if re.search(r\"[0-9]\", password):\n",
        "        strength += 1\n",
        "    else:\n",
        "        remarks += \"Password should include at least one digit.\\n\"\n",
        "\n",
        "    # Check special characters\n",
        "    if re.search(r\"[@$!%*?&^#]\", password):\n",
        "        strength += 1\n",
        "    else:\n",
        "        remarks += \"Password should include at least one special character (@$!%*?&^#).\\n\"\n",
        "\n",
        "    # Strength evaluation\n",
        "    if strength == 5:\n",
        "        return \"Strong Password ✅\", remarks\n",
        "    elif strength >= 3:\n",
        "        return \"Moderate Password ⚠️\", remarks\n",
        "    else:\n",
        "        return \"Weak Password ❌\", remarks\n",
        "\n",
        "\n",
        "# Example usage\n",
        "pwd = input(\"Enter your password: \")\n",
        "strength, feedback = check_password_strength(pwd)\n",
        "print(strength)\n",
        "if feedback:\n",
        "    print(\"Suggestions:\\n\" + feedback)\n"
      ]
    }
  ]
}